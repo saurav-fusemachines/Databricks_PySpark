{
 "cells": [
  {
   "cell_type": "code",
   "execution_count": 1,
   "metadata": {},
   "outputs": [
    {
     "name": "stderr",
     "output_type": "stream",
     "text": [
      "23/11/03 07:18:04 WARN Utils: Your hostname, FM-PC-LT-342 resolves to a loopback address: 127.0.1.1; using 192.168.1.74 instead (on interface wlp0s20f3)\n",
      "23/11/03 07:18:04 WARN Utils: Set SPARK_LOCAL_IP if you need to bind to another address\n",
      "Setting default log level to \"WARN\".\n",
      "To adjust logging level use sc.setLogLevel(newLevel). For SparkR, use setLogLevel(newLevel).\n",
      "23/11/03 07:18:04 WARN NativeCodeLoader: Unable to load native-hadoop library for your platform... using builtin-java classes where applicable\n"
     ]
    }
   ],
   "source": [
    "# Create SparkSession from builder\n",
    "from pyspark.sql import SparkSession\n",
    "spark = SparkSession.builder.master(\"local[1]\") \\\n",
    "                    .appName('chapter01_to_05') \\\n",
    "                    .getOrCreate()"
   ]
  },
  {
   "cell_type": "code",
   "execution_count": 2,
   "metadata": {},
   "outputs": [
    {
     "data": {
      "text/html": [
       "\n",
       "            <div>\n",
       "                <p><b>SparkSession - in-memory</b></p>\n",
       "                \n",
       "        <div>\n",
       "            <p><b>SparkContext</b></p>\n",
       "\n",
       "            <p><a href=\"http://192.168.1.74:4040\">Spark UI</a></p>\n",
       "\n",
       "            <dl>\n",
       "              <dt>Version</dt>\n",
       "                <dd><code>v3.4.0</code></dd>\n",
       "              <dt>Master</dt>\n",
       "                <dd><code>local[1]</code></dd>\n",
       "              <dt>AppName</dt>\n",
       "                <dd><code>chapter01_to_05</code></dd>\n",
       "            </dl>\n",
       "        </div>\n",
       "        \n",
       "            </div>\n",
       "        "
      ],
      "text/plain": [
       "<pyspark.sql.session.SparkSession at 0x7fec67fa5090>"
      ]
     },
     "execution_count": 2,
     "metadata": {},
     "output_type": "execute_result"
    }
   ],
   "source": [
    "spark"
   ]
  },
  {
   "cell_type": "code",
   "execution_count": 3,
   "metadata": {},
   "outputs": [],
   "source": [
    "myrange = spark.range(1000).toDF(\"number\")"
   ]
  },
  {
   "cell_type": "code",
   "execution_count": 4,
   "metadata": {},
   "outputs": [
    {
     "name": "stdout",
     "output_type": "stream",
     "text": [
      "+------+\n",
      "|number|\n",
      "+------+\n",
      "|     0|\n",
      "|     1|\n",
      "|     2|\n",
      "|     3|\n",
      "|     4|\n",
      "|     5|\n",
      "|     6|\n",
      "|     7|\n",
      "|     8|\n",
      "|     9|\n",
      "|    10|\n",
      "|    11|\n",
      "|    12|\n",
      "|    13|\n",
      "|    14|\n",
      "|    15|\n",
      "|    16|\n",
      "|    17|\n",
      "|    18|\n",
      "|    19|\n",
      "+------+\n",
      "only showing top 20 rows\n",
      "\n"
     ]
    }
   ],
   "source": [
    "myrange.show()"
   ]
  },
  {
   "cell_type": "code",
   "execution_count": 5,
   "metadata": {},
   "outputs": [
    {
     "name": "stdout",
     "output_type": "stream",
     "text": [
      "root\n",
      " |-- number: long (nullable = false)\n",
      "\n"
     ]
    }
   ],
   "source": [
    "myrange.printSchema()"
   ]
  },
  {
   "cell_type": "code",
   "execution_count": 6,
   "metadata": {},
   "outputs": [
    {
     "name": "stdout",
     "output_type": "stream",
     "text": [
      "+------+\n",
      "|number|\n",
      "+------+\n",
      "|     0|\n",
      "|     2|\n",
      "|     4|\n",
      "|     6|\n",
      "|     8|\n",
      "|    10|\n",
      "|    12|\n",
      "|    14|\n",
      "|    16|\n",
      "|    18|\n",
      "|    20|\n",
      "|    22|\n",
      "|    24|\n",
      "|    26|\n",
      "|    28|\n",
      "|    30|\n",
      "|    32|\n",
      "|    34|\n",
      "|    36|\n",
      "|    38|\n",
      "+------+\n",
      "only showing top 20 rows\n",
      "\n"
     ]
    }
   ],
   "source": [
    "divisBy2 = myrange.where(\"number % 2 = 0\")\n",
    "divisBy2.show()"
   ]
  },
  {
   "cell_type": "code",
   "execution_count": 7,
   "metadata": {},
   "outputs": [
    {
     "data": {
      "text/plain": [
       "500"
      ]
     },
     "execution_count": 7,
     "metadata": {},
     "output_type": "execute_result"
    }
   ],
   "source": [
    "divisBy2.count()"
   ]
  },
  {
   "cell_type": "code",
   "execution_count": 8,
   "metadata": {},
   "outputs": [],
   "source": [
    "flightData2015 =  spark.read.option(\"inferSchema\",\"true\").\\\n",
    "                  option(\"header\",\"true\").\\\n",
    "                  csv(\"/home/fm-pc-lt-342/Documents/Spark Docx/datasets/datas/flight-data/csv/2015-summary.csv\")"
   ]
  },
  {
   "cell_type": "code",
   "execution_count": 9,
   "metadata": {},
   "outputs": [
    {
     "data": {
      "text/plain": [
       "[Row(DEST_COUNTRY_NAME='United States', ORIGIN_COUNTRY_NAME='Romania', count=15),\n",
       " Row(DEST_COUNTRY_NAME='United States', ORIGIN_COUNTRY_NAME='Croatia', count=1),\n",
       " Row(DEST_COUNTRY_NAME='United States', ORIGIN_COUNTRY_NAME='Ireland', count=344)]"
      ]
     },
     "execution_count": 9,
     "metadata": {},
     "output_type": "execute_result"
    }
   ],
   "source": [
    "flightData2015.take(3)"
   ]
  },
  {
   "cell_type": "code",
   "execution_count": 10,
   "metadata": {},
   "outputs": [
    {
     "name": "stdout",
     "output_type": "stream",
     "text": [
      "+-----------------+-------------------+-----+\n",
      "|DEST_COUNTRY_NAME|ORIGIN_COUNTRY_NAME|count|\n",
      "+-----------------+-------------------+-----+\n",
      "|    United States|            Romania|   15|\n",
      "|    United States|            Croatia|    1|\n",
      "|    United States|            Ireland|  344|\n",
      "+-----------------+-------------------+-----+\n",
      "only showing top 3 rows\n",
      "\n"
     ]
    }
   ],
   "source": [
    "flightData2015.show(3)"
   ]
  },
  {
   "cell_type": "code",
   "execution_count": 11,
   "metadata": {},
   "outputs": [
    {
     "name": "stdout",
     "output_type": "stream",
     "text": [
      "root\n",
      " |-- DEST_COUNTRY_NAME: string (nullable = true)\n",
      " |-- ORIGIN_COUNTRY_NAME: string (nullable = true)\n",
      " |-- count: integer (nullable = true)\n",
      "\n"
     ]
    }
   ],
   "source": [
    "flightData2015.printSchema()"
   ]
  },
  {
   "cell_type": "code",
   "execution_count": 12,
   "metadata": {},
   "outputs": [
    {
     "name": "stdout",
     "output_type": "stream",
     "text": [
      "== Physical Plan ==\n",
      "AdaptiveSparkPlan isFinalPlan=false\n",
      "+- Sort [count#39 ASC NULLS FIRST], true, 0\n",
      "   +- Exchange rangepartitioning(count#39 ASC NULLS FIRST, 200), ENSURE_REQUIREMENTS, [plan_id=93]\n",
      "      +- FileScan csv [DEST_COUNTRY_NAME#37,ORIGIN_COUNTRY_NAME#38,count#39] Batched: false, DataFilters: [], Format: CSV, Location: InMemoryFileIndex(1 paths)[file:/home/fm-pc-lt-342/Documents/Spark Docx/datasets/datas/flight-dat..., PartitionFilters: [], PushedFilters: [], ReadSchema: struct<DEST_COUNTRY_NAME:string,ORIGIN_COUNTRY_NAME:string,count:int>\n",
      "\n",
      "\n"
     ]
    }
   ],
   "source": [
    "flightData2015.sort('count').explain()"
   ]
  },
  {
   "attachments": {},
   "cell_type": "markdown",
   "metadata": {},
   "source": [
    "### Shuffle Default Partition"
   ]
  },
  {
   "attachments": {},
   "cell_type": "markdown",
   "metadata": {},
   "source": [
    "### By default, when we perform a shuffle, Spark\n",
    "### outputs 200 shuffle partitions. Let’s set this value to 5 to reduce the number of the output\n",
    "### partitions from the shuffle:"
   ]
  },
  {
   "cell_type": "code",
   "execution_count": 13,
   "metadata": {},
   "outputs": [
    {
     "data": {
      "text/plain": [
       "'200'"
      ]
     },
     "execution_count": 13,
     "metadata": {},
     "output_type": "execute_result"
    }
   ],
   "source": [
    "spark.conf.get('spark.sql.shuffle.partitions')"
   ]
  },
  {
   "attachments": {},
   "cell_type": "markdown",
   "metadata": {},
   "source": [
    "### Repartition to 5"
   ]
  },
  {
   "cell_type": "code",
   "execution_count": 14,
   "metadata": {},
   "outputs": [],
   "source": [
    "spark.conf.set('spark.sql.shuffle.partitions',\"5\")"
   ]
  },
  {
   "cell_type": "code",
   "execution_count": 15,
   "metadata": {},
   "outputs": [
    {
     "data": {
      "text/plain": [
       "'5'"
      ]
     },
     "execution_count": 15,
     "metadata": {},
     "output_type": "execute_result"
    }
   ],
   "source": [
    "spark.conf.get('spark.sql.shuffle.partitions')"
   ]
  },
  {
   "attachments": {},
   "cell_type": "markdown",
   "metadata": {},
   "source": [
    "### DataFrames and SQL\n",
    "Spark can run the same\n",
    "transformations, regardless of the language, in the exact same way. You can express your\n",
    "business logic in SQL or DataFrames (either in R, Python, Scala, or Java) and Spark will\n",
    "compile that logic down to an underlying plan (that you can see in the explain plan) before\n",
    "actually executing your code. With Spark SQL, you can register any DataFrame as a table or\n",
    "view (a temporary table) and query it using pure SQL. There is no performance difference\n",
    "between writing SQL queries or writing DataFrame code, they both “compile” to the same\n",
    "underlying plan that we specify in DataFrame code."
   ]
  },
  {
   "cell_type": "code",
   "execution_count": 16,
   "metadata": {},
   "outputs": [
    {
     "name": "stdout",
     "output_type": "stream",
     "text": [
      "+--------------------+-------------------+-----+\n",
      "|   DEST_COUNTRY_NAME|ORIGIN_COUNTRY_NAME|count|\n",
      "+--------------------+-------------------+-----+\n",
      "|             Algeria|      United States|    4|\n",
      "|              Angola|      United States|   15|\n",
      "|            Anguilla|      United States|   41|\n",
      "| Antigua and Barbuda|      United States|  126|\n",
      "|           Argentina|      United States|  180|\n",
      "|               Aruba|      United States|  346|\n",
      "|           Australia|      United States|  329|\n",
      "|             Austria|      United States|   62|\n",
      "|          Azerbaijan|      United States|   21|\n",
      "|             Bahrain|      United States|   19|\n",
      "|            Barbados|      United States|  154|\n",
      "|             Belgium|      United States|  259|\n",
      "|              Belize|      United States|  188|\n",
      "|             Bermuda|      United States|  183|\n",
      "|             Bolivia|      United States|   30|\n",
      "|Bonaire, Sint Eus...|      United States|   58|\n",
      "|              Brazil|      United States|  853|\n",
      "|British Virgin Is...|      United States|  107|\n",
      "|            Bulgaria|      United States|    3|\n",
      "|        Burkina Faso|      United States|    1|\n",
      "+--------------------+-------------------+-----+\n",
      "only showing top 20 rows\n",
      "\n"
     ]
    },
    {
     "data": {
      "text/plain": [
       "\"This code in PySpark sorts the DataFrame flightData2015 by the column named 'DEST_COUNTRY_NAME' in ascending order and then displays the first 20 rows of the resulting DataFrame\\n. The sort() function is used to sort one or more columns in a DataFrame, and the show() function is used to display the resulting DataFrame\""
      ]
     },
     "execution_count": 16,
     "metadata": {},
     "output_type": "execute_result"
    }
   ],
   "source": [
    "flightData2015.sort('DEST_COUNTRY_NAME').show()\n",
    "\"\"\"This code in PySpark sorts the DataFrame flightData2015 by the column named 'DEST_COUNTRY_NAME' in ascending order and then displays the first 20 rows of the resulting DataFrame\n",
    ". The sort() function is used to sort one or more columns in a DataFrame, and the show() function is used to display the resulting DataFrame\"\"\""
   ]
  },
  {
   "attachments": {},
   "cell_type": "markdown",
   "metadata": {},
   "source": [
    "#### Any dataFrame can be made into a table or view with a simple method called **createOrReplaceTempView**"
   ]
  },
  {
   "cell_type": "code",
   "execution_count": 17,
   "metadata": {},
   "outputs": [],
   "source": [
    "flightData2015.createOrReplaceTempView(\"2015_temp_view\")"
   ]
  },
  {
   "attachments": {},
   "cell_type": "markdown",
   "metadata": {},
   "source": [
    "we can query our data in SQL. To do so, we’ll use the spark.sql function (remember,\n",
    "spark is our SparkSession variable) that conveniently returns a new DataFrame. Although this\n",
    "might seem a bit circular in logic—that a SQL query against a DataFrame returns another\n",
    "DataFrame—it’s actually quite powerful. This makes it possible for you to specify\n",
    "transformations in the manner most convenient to you at any given point in time and not sacrifice\n",
    "any efficiency to do so"
   ]
  },
  {
   "cell_type": "code",
   "execution_count": 18,
   "metadata": {},
   "outputs": [
    {
     "name": "stdout",
     "output_type": "stream",
     "text": [
      "+--------------------+--------+\n",
      "|   DEST_COUNTRY_NAME|count(1)|\n",
      "+--------------------+--------+\n",
      "|             Moldova|       1|\n",
      "|             Bolivia|       1|\n",
      "|             Algeria|       1|\n",
      "|Turks and Caicos ...|       1|\n",
      "|            Pakistan|       1|\n",
      "|    Marshall Islands|       1|\n",
      "|            Suriname|       1|\n",
      "|              Panama|       1|\n",
      "|         New Zealand|       1|\n",
      "|             Liberia|       1|\n",
      "+--------------------+--------+\n",
      "only showing top 10 rows\n",
      "\n"
     ]
    }
   ],
   "source": [
    "sqlWay = spark.sql(\"SELECT DEST_COUNTRY_NAME, count(1) FROM 2015_temp_view GROUP BY DEST_COUNTRY_NAME\")\n",
    "sqlWay.show(10)"
   ]
  },
  {
   "attachments": {},
   "cell_type": "markdown",
   "metadata": {},
   "source": [
    "### Converting to Spark Types (Literals)\n",
    "Sometimes, we need to pass explicit values into Spark that are just a value (rather than a newcolumn). This might be a constant value or something we’ll need to compare to later on. The\n",
    "way we do this is through literals. This is basically a translation from a given programming language’s literal value to one that Spark understands. Literals are expressions and you can use\n",
    "them in the same way:"
   ]
  },
  {
   "cell_type": "code",
   "execution_count": 19,
   "metadata": {},
   "outputs": [
    {
     "name": "stdout",
     "output_type": "stream",
     "text": [
      "+--------------------+-------------------+-----+---+\n",
      "|   DEST_COUNTRY_NAME|ORIGIN_COUNTRY_NAME|count|one|\n",
      "+--------------------+-------------------+-----+---+\n",
      "|       United States|            Romania|   15|  1|\n",
      "|       United States|            Croatia|    1|  1|\n",
      "|       United States|            Ireland|  344|  1|\n",
      "|               Egypt|      United States|   15|  1|\n",
      "|       United States|              India|   62|  1|\n",
      "|       United States|          Singapore|    1|  1|\n",
      "|       United States|            Grenada|   62|  1|\n",
      "|          Costa Rica|      United States|  588|  1|\n",
      "|             Senegal|      United States|   40|  1|\n",
      "|             Moldova|      United States|    1|  1|\n",
      "|       United States|       Sint Maarten|  325|  1|\n",
      "|       United States|   Marshall Islands|   39|  1|\n",
      "|              Guyana|      United States|   64|  1|\n",
      "|               Malta|      United States|    1|  1|\n",
      "|            Anguilla|      United States|   41|  1|\n",
      "|             Bolivia|      United States|   30|  1|\n",
      "|       United States|           Paraguay|    6|  1|\n",
      "|             Algeria|      United States|    4|  1|\n",
      "|Turks and Caicos ...|      United States|  230|  1|\n",
      "|       United States|          Gibraltar|    1|  1|\n",
      "+--------------------+-------------------+-----+---+\n",
      "only showing top 20 rows\n",
      "\n"
     ]
    }
   ],
   "source": [
    "from pyspark.sql.functions import lit\n",
    "\n",
    "literals = flightData2015.select(\"*\",lit(1).alias(\"one\")).show()"
   ]
  },
  {
   "attachments": {},
   "cell_type": "markdown",
   "metadata": {},
   "source": [
    "Before proceeding, let’s review the fundamental concepts and definitions that we covered in Part I.\n",
    "Spark is a distributed programming model in which the user specifies transformations. Multiple\n",
    "transformations build up a directed acyclic graph of instructions. An action begins the process of\n",
    "executing that graph of instructions, as a single job, by breaking it down into stages and tasks to\n",
    "execute across the cluster. The logical structures that we manipulate with transformations and actions\n",
    "are DataFrames and Datasets. To create a new DataFrame or Dataset, you call a transformation. To\n",
    "start computation or convert to native language types, you call an action."
   ]
  },
  {
   "attachments": {},
   "cell_type": "markdown",
   "metadata": {},
   "source": [
    "### select and selectExpr\n",
    "select and selectExpr allow you to do the DataFrame equivalent of SQL queries on a table of\n",
    "data:-- in SQL\n",
    "SELECT * FROM dataFrameTable\n",
    "SELECT columnName FROM dataFrameTable\n",
    "SELECT columnName * 10, otherColumn, someOtherCol as c FROM dataFrameTable\n",
    "In the simplest possible terms, you can use them to manipulate columns in your DataFrames."
   ]
  },
  {
   "cell_type": "code",
   "execution_count": 20,
   "metadata": {},
   "outputs": [
    {
     "data": {
      "text/plain": [
       "'\\n    # in Python\\ndf.select(\"DEST_COUNTRY_NAME\").show(2)\\n-- in SQL\\nSELECT DEST_COUNTRY_NAME FROM dfTable LIMIT 2\\n'"
      ]
     },
     "execution_count": 20,
     "metadata": {},
     "output_type": "execute_result"
    }
   ],
   "source": [
    "'''\n",
    "    # in Python\n",
    "df.select(\"DEST_COUNTRY_NAME\").show(2)\n",
    "-- in SQL\n",
    "SELECT DEST_COUNTRY_NAME FROM dfTable LIMIT 2\n",
    "'''"
   ]
  },
  {
   "attachments": {},
   "cell_type": "markdown",
   "metadata": {},
   "source": [
    "You can select multiple columns by using the same style of query, just add more column name\n",
    "strings to your select method call:\n",
    "\n",
    " ##### in Python\n",
    " \n",
    "df.select(\"DEST_COUNTRY_NAME\", \"ORIGIN_COUNTRY_NAME\").show(2)\n",
    "\n",
    "-- in SQL\n",
    "\n",
    "SELECT DEST_COUNTRY_NAME, ORIGIN_COUNTRY_NAME FROM dfTable LIMIT 2\n",
    "\n"
   ]
  },
  {
   "attachments": {},
   "cell_type": "markdown",
   "metadata": {},
   "source": [
    "### As discussed in “Columns and Expressions”, you can refer to columns in a number of different\n",
    "ways; all you need to keep in mind is that you can use them interchangeably:"
   ]
  },
  {
   "cell_type": "code",
   "execution_count": 21,
   "metadata": {},
   "outputs": [
    {
     "name": "stdout",
     "output_type": "stream",
     "text": [
      "+-----------------+-----------------+-----------------+\n",
      "|DEST_COUNTRY_NAME|DEST_COUNTRY_NAME|DEST_COUNTRY_NAME|\n",
      "+-----------------+-----------------+-----------------+\n",
      "|    United States|    United States|    United States|\n",
      "|    United States|    United States|    United States|\n",
      "+-----------------+-----------------+-----------------+\n",
      "only showing top 2 rows\n",
      "\n"
     ]
    }
   ],
   "source": [
    "# in Python\n",
    "from pyspark.sql.functions import expr, col, column\n",
    "flightData2015.select(\n",
    "expr(\"DEST_COUNTRY_NAME\"),\n",
    "col(\"DEST_COUNTRY_NAME\"),\n",
    "column(\"DEST_COUNTRY_NAME\"))\\\n",
    ".show(2)"
   ]
  },
  {
   "attachments": {},
   "cell_type": "markdown",
   "metadata": {},
   "source": [
    "#### Note:\n",
    " One common error is attempting to mix Column objects and strings. For example, the followingcode will result in a compiler error:\n",
    " \n",
    "df.select(col(\"DEST_COUNTRY_NAME\"), \"DEST_COUNTRY_NAME\")"
   ]
  },
  {
   "attachments": {},
   "cell_type": "markdown",
   "metadata": {},
   "source": [
    "### Adding Columns\n",
    "PySpark withColumn() is a transformation function of DataFrame which is used to change the value, convert the datatype of an existing column, create a new column, and many more. In this post, I will walk you through commonly used PySpark DataFrame column operations using withColumn() examples.\n",
    "\n",
    "Notice that the withColumn function takes two arguments: the column name and the expression\n",
    "that will create the value for that given row in the DataFrame"
   ]
  },
  {
   "cell_type": "code",
   "execution_count": 22,
   "metadata": {},
   "outputs": [
    {
     "name": "stdout",
     "output_type": "stream",
     "text": [
      "+-----------------+-------------------+-----+----------+\n",
      "|DEST_COUNTRY_NAME|ORIGIN_COUNTRY_NAME|count|new_column|\n",
      "+-----------------+-------------------+-----+----------+\n",
      "|    United States|            Romania|   15|     false|\n",
      "|    United States|            Croatia|    1|     false|\n",
      "|    United States|            Ireland|  344|     false|\n",
      "|            Egypt|      United States|   15|     false|\n",
      "|    United States|              India|   62|     false|\n",
      "+-----------------+-------------------+-----+----------+\n",
      "only showing top 5 rows\n",
      "\n"
     ]
    }
   ],
   "source": [
    "from pyspark.sql.functions import expr, col\n",
    "adding_new_column = flightData2015.withColumn(\"new_column\",expr(\"ORIGIN_COUNTRY_NAME == DEST_COUNTRY_NAME\"))\n",
    "adding_new_column.show(5)"
   ]
  },
  {
   "cell_type": "code",
   "execution_count": 23,
   "metadata": {},
   "outputs": [
    {
     "name": "stdout",
     "output_type": "stream",
     "text": [
      "+--------------------+-------------------+-----+---------+\n",
      "|   DEST_COUNTRY_NAME|ORIGIN_COUNTRY_NAME|count|count * 2|\n",
      "+--------------------+-------------------+-----+---------+\n",
      "|       United States|            Romania|   15|       30|\n",
      "|       United States|            Croatia|    1|        2|\n",
      "|       United States|            Ireland|  344|      688|\n",
      "|               Egypt|      United States|   15|       30|\n",
      "|       United States|              India|   62|      124|\n",
      "|       United States|          Singapore|    1|        2|\n",
      "|       United States|            Grenada|   62|      124|\n",
      "|          Costa Rica|      United States|  588|     1176|\n",
      "|             Senegal|      United States|   40|       80|\n",
      "|             Moldova|      United States|    1|        2|\n",
      "|       United States|       Sint Maarten|  325|      650|\n",
      "|       United States|   Marshall Islands|   39|       78|\n",
      "|              Guyana|      United States|   64|      128|\n",
      "|               Malta|      United States|    1|        2|\n",
      "|            Anguilla|      United States|   41|       82|\n",
      "|             Bolivia|      United States|   30|       60|\n",
      "|       United States|           Paraguay|    6|       12|\n",
      "|             Algeria|      United States|    4|        8|\n",
      "|Turks and Caicos ...|      United States|  230|      460|\n",
      "|       United States|          Gibraltar|    1|        2|\n",
      "+--------------------+-------------------+-----+---------+\n",
      "only showing top 20 rows\n",
      "\n"
     ]
    }
   ],
   "source": [
    "adding_new_col = flightData2015.withColumn(\"count * 2\",expr(\"count\")*2).show()"
   ]
  },
  {
   "cell_type": "code",
   "execution_count": 24,
   "metadata": {},
   "outputs": [
    {
     "name": "stdout",
     "output_type": "stream",
     "text": [
      "+-----------------+-------------------+-----+------------+\n",
      "|DEST_COUNTRY_NAME|ORIGIN_COUNTRY_NAME|count|new_column_2|\n",
      "+-----------------+-------------------+-----+------------+\n",
      "|    United States|            Romania|   15|          30|\n",
      "|    United States|            Croatia|    1|           2|\n",
      "|    United States|            Ireland|  344|         688|\n",
      "|            Egypt|      United States|   15|          30|\n",
      "|    United States|              India|   62|         124|\n",
      "+-----------------+-------------------+-----+------------+\n",
      "only showing top 5 rows\n",
      "\n"
     ]
    }
   ],
   "source": [
    "new_col = flightData2015.withColumn(\"new_column_2\",col(\"count\") * 2)\n",
    "new_col.show(5)"
   ]
  },
  {
   "attachments": {},
   "cell_type": "markdown",
   "metadata": {},
   "source": [
    "### Renaming Columns\n",
    "Though we cannot rename a column using withColumn, still we wanted to cover this as renaming is one of the common operations we perform on DataFrame. To rename an existing column use withColumnRenamed() function on DataFrame."
   ]
  },
  {
   "cell_type": "code",
   "execution_count": 25,
   "metadata": {},
   "outputs": [
    {
     "name": "stdout",
     "output_type": "stream",
     "text": [
      "+-----------------+-------------------+-----+---------+\n",
      "|DEST_COUNTRY_NAME|ORIGIN_COUNTRY_NAME|count|Count * 2|\n",
      "+-----------------+-------------------+-----+---------+\n",
      "|    United States|            Romania|   15|       30|\n",
      "|    United States|            Croatia|    1|        2|\n",
      "|    United States|            Ireland|  344|      688|\n",
      "|            Egypt|      United States|   15|       30|\n",
      "|    United States|              India|   62|      124|\n",
      "+-----------------+-------------------+-----+---------+\n",
      "only showing top 5 rows\n",
      "\n"
     ]
    }
   ],
   "source": [
    "renaming_column = new_col.withColumnRenamed(\"new_column_2\",\"Count * 2\")\n",
    "renaming_column.show(5)"
   ]
  },
  {
   "attachments": {},
   "cell_type": "markdown",
   "metadata": {},
   "source": [
    "### Case Sensitivity\n",
    "By default Spark is case insensitive; however, you can make Spark case sensitive by setting the configuration:\n",
    "\n",
    "-- in SQL\n",
    "\n",
    "set spark.sql.caseSensitive true"
   ]
  },
  {
   "attachments": {},
   "cell_type": "markdown",
   "metadata": {},
   "source": [
    "### Removing Columns\n",
    "df.drop(\"ORIGIN_COUNTRY_NAME\")\n",
    "\n",
    "We can drop multiple columns by passing in multiple columns as arguments:\n",
    "\n",
    "df.drop(\"ORIGIN_COUNTRY_NAME\", \"DEST_COUNTRY_NAME\")"
   ]
  },
  {
   "cell_type": "code",
   "execution_count": 26,
   "metadata": {},
   "outputs": [
    {
     "name": "stdout",
     "output_type": "stream",
     "text": [
      "+-----------------+-------------------+-----+\n",
      "|DEST_COUNTRY_NAME|ORIGIN_COUNTRY_NAME|count|\n",
      "+-----------------+-------------------+-----+\n",
      "|    United States|            Romania|   15|\n",
      "|    United States|            Croatia|    1|\n",
      "|    United States|            Ireland|  344|\n",
      "+-----------------+-------------------+-----+\n",
      "only showing top 3 rows\n",
      "\n"
     ]
    }
   ],
   "source": [
    "drop_column = renaming_column.drop(col(\"`Count * 2`\"))\n",
    "drop_column.show(3)"
   ]
  },
  {
   "attachments": {},
   "cell_type": "markdown",
   "metadata": {},
   "source": [
    "### Changing a Column’s Type (cast)"
   ]
  },
  {
   "cell_type": "code",
   "execution_count": 27,
   "metadata": {},
   "outputs": [
    {
     "name": "stdout",
     "output_type": "stream",
     "text": [
      "root\n",
      " |-- DEST_COUNTRY_NAME: string (nullable = true)\n",
      " |-- ORIGIN_COUNTRY_NAME: string (nullable = true)\n",
      " |-- count: long (nullable = true)\n",
      "\n"
     ]
    }
   ],
   "source": [
    "drop_column.withColumn(\"count\",col(\"count\").cast(\"long\")).printSchema()"
   ]
  },
  {
   "attachments": {},
   "cell_type": "markdown",
   "metadata": {},
   "source": [
    "### Filtering Rows\n",
    "To filter rows, we create an expression that evaluates to true or false. There are two methods to perform this operation: we can use where or filter\n",
    "and they both will perform the same operation and accept the same argument types when used\n",
    "with DataFrames."
   ]
  },
  {
   "cell_type": "code",
   "execution_count": 28,
   "metadata": {},
   "outputs": [
    {
     "name": "stdout",
     "output_type": "stream",
     "text": [
      "+-----------------+-------------------+-----+\n",
      "|DEST_COUNTRY_NAME|ORIGIN_COUNTRY_NAME|count|\n",
      "+-----------------+-------------------+-----+\n",
      "|    United States|            Croatia|    1|\n",
      "|    United States|          Singapore|    1|\n",
      "|          Moldova|      United States|    1|\n",
      "+-----------------+-------------------+-----+\n",
      "only showing top 3 rows\n",
      "\n"
     ]
    }
   ],
   "source": [
    "flightData2015.filter(flightData2015['count']<2).show(3)"
   ]
  },
  {
   "cell_type": "code",
   "execution_count": 29,
   "metadata": {},
   "outputs": [
    {
     "name": "stdout",
     "output_type": "stream",
     "text": [
      "+-----------------+-------------------+-----+\n",
      "|DEST_COUNTRY_NAME|ORIGIN_COUNTRY_NAME|count|\n",
      "+-----------------+-------------------+-----+\n",
      "|    United States|            Croatia|    1|\n",
      "|    United States|          Singapore|    1|\n",
      "|          Moldova|      United States|    1|\n",
      "+-----------------+-------------------+-----+\n",
      "only showing top 3 rows\n",
      "\n"
     ]
    }
   ],
   "source": [
    "flightData2015.filter(col(\"count\")<3).show(3)"
   ]
  },
  {
   "cell_type": "code",
   "execution_count": 30,
   "metadata": {},
   "outputs": [
    {
     "name": "stdout",
     "output_type": "stream",
     "text": [
      "+-----------------+-------------------+-----+\n",
      "|DEST_COUNTRY_NAME|ORIGIN_COUNTRY_NAME|count|\n",
      "+-----------------+-------------------+-----+\n",
      "|    United States|            Romania|   15|\n",
      "|    United States|            Ireland|  344|\n",
      "|            Egypt|      United States|   15|\n",
      "+-----------------+-------------------+-----+\n",
      "only showing top 3 rows\n",
      "\n"
     ]
    }
   ],
   "source": [
    "flightData2015.where(col(\"count\")>5).show(3)"
   ]
  },
  {
   "attachments": {},
   "cell_type": "markdown",
   "metadata": {},
   "source": [
    "### \n",
    "Instinctually, you might want to put multiple filters into the same expression. Although this is possible, it is not always useful, because Spark automatically performs all filtering operations at\n",
    "the same time regardless of the filter ordering. This means that if you want to specify multiple\n",
    "AND filters, just chain them sequentially and let Spark handle the rest:"
   ]
  },
  {
   "cell_type": "code",
   "execution_count": 34,
   "metadata": {},
   "outputs": [
    {
     "name": "stdout",
     "output_type": "stream",
     "text": [
      "+-----------------+-------------------+-----+\n",
      "|DEST_COUNTRY_NAME|ORIGIN_COUNTRY_NAME|count|\n",
      "+-----------------+-------------------+-----+\n",
      "|    United States|          Singapore|    1|\n",
      "|          Moldova|      United States|    1|\n",
      "+-----------------+-------------------+-----+\n",
      "only showing top 2 rows\n",
      "\n"
     ]
    }
   ],
   "source": [
    "flightData2015.where(col(\"count\") < 2).where(col(\"ORIGIN_COUNTRY_NAME\") != \"Croatia\").show(2)"
   ]
  },
  {
   "cell_type": "code",
   "execution_count": 35,
   "metadata": {},
   "outputs": [
    {
     "name": "stdout",
     "output_type": "stream",
     "text": [
      "+-----------------+-------------------+-----+\n",
      "|DEST_COUNTRY_NAME|ORIGIN_COUNTRY_NAME|count|\n",
      "+-----------------+-------------------+-----+\n",
      "|    United States|          Singapore|    1|\n",
      "|          Moldova|      United States|    1|\n",
      "+-----------------+-------------------+-----+\n",
      "only showing top 2 rows\n",
      "\n"
     ]
    }
   ],
   "source": [
    "flightData2015.filter(col(\"count\") < 2).filter(col(\"ORIGIN_COUNTRY_NAME\") != \"Croatia\").show(2)"
   ]
  },
  {
   "attachments": {},
   "cell_type": "markdown",
   "metadata": {},
   "source": [
    "### Getting Unique Rows\n",
    "\n",
    "A very common use case is to extract the unique or distinct values in a DataFrame. These values\n",
    "can be in one or more columns. The way we do this is by using the distinct method on a\n",
    "DataFrame, which allows us to deduplicate any rows that are in that DataFrame. For instance,\n",
    "let’s get the unique origins in our dataset. This, of course, is a transformation that will return a\n",
    "new DataFrame with only unique rows"
   ]
  },
  {
   "cell_type": "code",
   "execution_count": 38,
   "metadata": {},
   "outputs": [
    {
     "data": {
      "text/plain": [
       "256"
      ]
     },
     "execution_count": 38,
     "metadata": {},
     "output_type": "execute_result"
    }
   ],
   "source": [
    "flightData2015.select(col(\"DEST_COUNTRY_NAME\"),col(\"ORIGIN_COUNTRY_NAME\")).distinct().count()"
   ]
  },
  {
   "cell_type": "code",
   "execution_count": 24,
   "metadata": {},
   "outputs": [
    {
     "data": {
      "text/plain": [
       "256"
      ]
     },
     "execution_count": 24,
     "metadata": {},
     "output_type": "execute_result"
    }
   ],
   "source": [
    "flightData2015.select(\"DEST_COUNTRY_NAME\",\"ORIGIN_COUNTRY_NAME\").distinct().count()"
   ]
  },
  {
   "attachments": {},
   "cell_type": "markdown",
   "metadata": {},
   "source": [
    "### Sorting Rows\n",
    "\n",
    "When we sort the values in a DataFrame, we always want to sort with either the largest or\n",
    "smallest values at the top of a DataFrame. There are two equivalent operations to do this sort\n",
    "and orderBy that work the exact same way. They accept both column expressions and strings as\n",
    "well as multiple columns. The default is to sort in ascending orde"
   ]
  },
  {
   "cell_type": "code",
   "execution_count": 42,
   "metadata": {},
   "outputs": [
    {
     "name": "stdout",
     "output_type": "stream",
     "text": [
      "+-----------------+-------------------+-----+\n",
      "|DEST_COUNTRY_NAME|ORIGIN_COUNTRY_NAME|count|\n",
      "+-----------------+-------------------+-----+\n",
      "|     Burkina Faso|      United States|    1|\n",
      "|    Cote d'Ivoire|      United States|    1|\n",
      "|           Cyprus|      United States|    1|\n",
      "|         Djibouti|      United States|    1|\n",
      "|        Indonesia|      United States|    1|\n",
      "+-----------------+-------------------+-----+\n",
      "only showing top 5 rows\n",
      "\n"
     ]
    }
   ],
   "source": [
    "# flightData2015.sort(\"count\",\"DEST_COUNTRY_NAME\").show(5)\n",
    "# flightData2015.orderBy(\"count\", \"DEST_COUNTRY_NAME\").show(5)\n",
    "flightData2015.orderBy(col(\"count\"), col(\"DEST_COUNTRY_NAME\")).show(5)"
   ]
  },
  {
   "cell_type": "code",
   "execution_count": 43,
   "metadata": {},
   "outputs": [
    {
     "name": "stdout",
     "output_type": "stream",
     "text": [
      "+-----------------+-------------------+-----+\n",
      "|DEST_COUNTRY_NAME|ORIGIN_COUNTRY_NAME|count|\n",
      "+-----------------+-------------------+-----+\n",
      "|          Moldova|      United States|    1|\n",
      "|    United States|            Croatia|    1|\n",
      "+-----------------+-------------------+-----+\n",
      "only showing top 2 rows\n",
      "\n",
      "+-----------------+-------------------+------+\n",
      "|DEST_COUNTRY_NAME|ORIGIN_COUNTRY_NAME| count|\n",
      "+-----------------+-------------------+------+\n",
      "|    United States|      United States|370002|\n",
      "|    United States|             Canada|  8483|\n",
      "+-----------------+-------------------+------+\n",
      "only showing top 2 rows\n",
      "\n"
     ]
    }
   ],
   "source": [
    "# To more explicitly specify sort direction, you need to use the asc and desc functions if operating\n",
    "# on a column. These allow you to specify the order in which a given column should be sorted:\n",
    "from pyspark.sql.functions import desc, asc\n",
    "\n",
    "flightData2015.orderBy(expr(\"count desc\")).show(2)\n",
    "flightData2015.orderBy(col(\"count\").desc(), col(\"DEST_COUNTRY_NAME\").asc()).show(2)\n",
    "\n",
    "# An advanced tip is to use asc_nulls_first, desc_nulls_first, asc_nulls_last, or\n",
    "# desc_nulls_last to specify where you would like your null values to appear in an ordered\n",
    "# DataFrame."
   ]
  },
  {
   "attachments": {},
   "cell_type": "markdown",
   "metadata": {},
   "source": [
    "### Limit\n",
    "Oftentimes, you might want to restrict what you extract from a DataFrame; for example, you\n",
    "might want just the top ten of some DataFrame. You can do this by using the limit method."
   ]
  },
  {
   "cell_type": "code",
   "execution_count": 46,
   "metadata": {},
   "outputs": [
    {
     "name": "stdout",
     "output_type": "stream",
     "text": [
      "+-----------------+-------------------+-----+\n",
      "|DEST_COUNTRY_NAME|ORIGIN_COUNTRY_NAME|count|\n",
      "+-----------------+-------------------+-----+\n",
      "|    United States|            Romania|   15|\n",
      "|    United States|            Croatia|    1|\n",
      "|    United States|            Ireland|  344|\n",
      "|            Egypt|      United States|   15|\n",
      "|    United States|              India|   62|\n",
      "|    United States|          Singapore|    1|\n",
      "|    United States|            Grenada|   62|\n",
      "|       Costa Rica|      United States|  588|\n",
      "|          Senegal|      United States|   40|\n",
      "|          Moldova|      United States|    1|\n",
      "|    United States|       Sint Maarten|  325|\n",
      "+-----------------+-------------------+-----+\n",
      "\n"
     ]
    }
   ],
   "source": [
    "flightData2015.limit(11).show()"
   ]
  },
  {
   "cell_type": "code",
   "execution_count": 47,
   "metadata": {},
   "outputs": [
    {
     "data": {
      "text/plain": [
       "1"
      ]
     },
     "execution_count": 47,
     "metadata": {},
     "output_type": "execute_result"
    }
   ],
   "source": [
    "flightData2015.rdd.getNumPartitions() # 1"
   ]
  },
  {
   "cell_type": "code",
   "execution_count": 28,
   "metadata": {},
   "outputs": [
    {
     "data": {
      "text/plain": [
       "DataFrame[DEST_COUNTRY_NAME: string, ORIGIN_COUNTRY_NAME: string, count: int]"
      ]
     },
     "execution_count": 28,
     "metadata": {},
     "output_type": "execute_result"
    }
   ],
   "source": [
    "flightData2015.repartition(5)"
   ]
  },
  {
   "attachments": {},
   "cell_type": "markdown",
   "metadata": {},
   "source": [
    "### Collect, Take and Show\n",
    "\n",
    "collect() : collect gets all data from the entire DataFrame.\n",
    "\n",
    "take(N) : take gets the first N rows.\n",
    "\n",
    "show() :  prints out a number of rows nicely."
   ]
  },
  {
   "cell_type": "code",
   "execution_count": 48,
   "metadata": {},
   "outputs": [
    {
     "data": {
      "text/plain": [
       "[Row(DEST_COUNTRY_NAME='United States', ORIGIN_COUNTRY_NAME='Romania', count=15),\n",
       " Row(DEST_COUNTRY_NAME='United States', ORIGIN_COUNTRY_NAME='Croatia', count=1),\n",
       " Row(DEST_COUNTRY_NAME='United States', ORIGIN_COUNTRY_NAME='Ireland', count=344),\n",
       " Row(DEST_COUNTRY_NAME='Egypt', ORIGIN_COUNTRY_NAME='United States', count=15),\n",
       " Row(DEST_COUNTRY_NAME='United States', ORIGIN_COUNTRY_NAME='India', count=62),\n",
       " Row(DEST_COUNTRY_NAME='United States', ORIGIN_COUNTRY_NAME='Singapore', count=1),\n",
       " Row(DEST_COUNTRY_NAME='United States', ORIGIN_COUNTRY_NAME='Grenada', count=62),\n",
       " Row(DEST_COUNTRY_NAME='Costa Rica', ORIGIN_COUNTRY_NAME='United States', count=588),\n",
       " Row(DEST_COUNTRY_NAME='Senegal', ORIGIN_COUNTRY_NAME='United States', count=40),\n",
       " Row(DEST_COUNTRY_NAME='Moldova', ORIGIN_COUNTRY_NAME='United States', count=1),\n",
       " Row(DEST_COUNTRY_NAME='United States', ORIGIN_COUNTRY_NAME='Sint Maarten', count=325),\n",
       " Row(DEST_COUNTRY_NAME='United States', ORIGIN_COUNTRY_NAME='Marshall Islands', count=39),\n",
       " Row(DEST_COUNTRY_NAME='Guyana', ORIGIN_COUNTRY_NAME='United States', count=64),\n",
       " Row(DEST_COUNTRY_NAME='Malta', ORIGIN_COUNTRY_NAME='United States', count=1),\n",
       " Row(DEST_COUNTRY_NAME='Anguilla', ORIGIN_COUNTRY_NAME='United States', count=41),\n",
       " Row(DEST_COUNTRY_NAME='Bolivia', ORIGIN_COUNTRY_NAME='United States', count=30),\n",
       " Row(DEST_COUNTRY_NAME='United States', ORIGIN_COUNTRY_NAME='Paraguay', count=6),\n",
       " Row(DEST_COUNTRY_NAME='Algeria', ORIGIN_COUNTRY_NAME='United States', count=4),\n",
       " Row(DEST_COUNTRY_NAME='Turks and Caicos Islands', ORIGIN_COUNTRY_NAME='United States', count=230),\n",
       " Row(DEST_COUNTRY_NAME='United States', ORIGIN_COUNTRY_NAME='Gibraltar', count=1),\n",
       " Row(DEST_COUNTRY_NAME='Saint Vincent and the Grenadines', ORIGIN_COUNTRY_NAME='United States', count=1),\n",
       " Row(DEST_COUNTRY_NAME='Italy', ORIGIN_COUNTRY_NAME='United States', count=382),\n",
       " Row(DEST_COUNTRY_NAME='United States', ORIGIN_COUNTRY_NAME='Federated States of Micronesia', count=69),\n",
       " Row(DEST_COUNTRY_NAME='United States', ORIGIN_COUNTRY_NAME='Russia', count=161),\n",
       " Row(DEST_COUNTRY_NAME='Pakistan', ORIGIN_COUNTRY_NAME='United States', count=12),\n",
       " Row(DEST_COUNTRY_NAME='United States', ORIGIN_COUNTRY_NAME='Netherlands', count=660),\n",
       " Row(DEST_COUNTRY_NAME='Iceland', ORIGIN_COUNTRY_NAME='United States', count=181),\n",
       " Row(DEST_COUNTRY_NAME='Marshall Islands', ORIGIN_COUNTRY_NAME='United States', count=42),\n",
       " Row(DEST_COUNTRY_NAME='Luxembourg', ORIGIN_COUNTRY_NAME='United States', count=155),\n",
       " Row(DEST_COUNTRY_NAME='Honduras', ORIGIN_COUNTRY_NAME='United States', count=362),\n",
       " Row(DEST_COUNTRY_NAME='The Bahamas', ORIGIN_COUNTRY_NAME='United States', count=955),\n",
       " Row(DEST_COUNTRY_NAME='United States', ORIGIN_COUNTRY_NAME='Senegal', count=42),\n",
       " Row(DEST_COUNTRY_NAME='El Salvador', ORIGIN_COUNTRY_NAME='United States', count=561),\n",
       " Row(DEST_COUNTRY_NAME='Samoa', ORIGIN_COUNTRY_NAME='United States', count=25),\n",
       " Row(DEST_COUNTRY_NAME='United States', ORIGIN_COUNTRY_NAME='Angola', count=13),\n",
       " Row(DEST_COUNTRY_NAME='Switzerland', ORIGIN_COUNTRY_NAME='United States', count=294),\n",
       " Row(DEST_COUNTRY_NAME='United States', ORIGIN_COUNTRY_NAME='Anguilla', count=38),\n",
       " Row(DEST_COUNTRY_NAME='Sint Maarten', ORIGIN_COUNTRY_NAME='United States', count=325),\n",
       " Row(DEST_COUNTRY_NAME='Hong Kong', ORIGIN_COUNTRY_NAME='United States', count=332),\n",
       " Row(DEST_COUNTRY_NAME='Trinidad and Tobago', ORIGIN_COUNTRY_NAME='United States', count=211),\n",
       " Row(DEST_COUNTRY_NAME='Latvia', ORIGIN_COUNTRY_NAME='United States', count=19),\n",
       " Row(DEST_COUNTRY_NAME='United States', ORIGIN_COUNTRY_NAME='Ecuador', count=300),\n",
       " Row(DEST_COUNTRY_NAME='Suriname', ORIGIN_COUNTRY_NAME='United States', count=1),\n",
       " Row(DEST_COUNTRY_NAME='Mexico', ORIGIN_COUNTRY_NAME='United States', count=7140),\n",
       " Row(DEST_COUNTRY_NAME='United States', ORIGIN_COUNTRY_NAME='Cyprus', count=1),\n",
       " Row(DEST_COUNTRY_NAME='Ecuador', ORIGIN_COUNTRY_NAME='United States', count=268),\n",
       " Row(DEST_COUNTRY_NAME='United States', ORIGIN_COUNTRY_NAME='Portugal', count=134),\n",
       " Row(DEST_COUNTRY_NAME='United States', ORIGIN_COUNTRY_NAME='Costa Rica', count=608),\n",
       " Row(DEST_COUNTRY_NAME='United States', ORIGIN_COUNTRY_NAME='Guatemala', count=318),\n",
       " Row(DEST_COUNTRY_NAME='United States', ORIGIN_COUNTRY_NAME='Suriname', count=34),\n",
       " Row(DEST_COUNTRY_NAME='Colombia', ORIGIN_COUNTRY_NAME='United States', count=873),\n",
       " Row(DEST_COUNTRY_NAME='United States', ORIGIN_COUNTRY_NAME='Cape Verde', count=14),\n",
       " Row(DEST_COUNTRY_NAME='United States', ORIGIN_COUNTRY_NAME='Jamaica', count=712),\n",
       " Row(DEST_COUNTRY_NAME='Norway', ORIGIN_COUNTRY_NAME='United States', count=121),\n",
       " Row(DEST_COUNTRY_NAME='United States', ORIGIN_COUNTRY_NAME='Malaysia', count=3),\n",
       " Row(DEST_COUNTRY_NAME='United States', ORIGIN_COUNTRY_NAME='Morocco', count=19),\n",
       " Row(DEST_COUNTRY_NAME='Thailand', ORIGIN_COUNTRY_NAME='United States', count=3),\n",
       " Row(DEST_COUNTRY_NAME='United States', ORIGIN_COUNTRY_NAME='Samoa', count=25),\n",
       " Row(DEST_COUNTRY_NAME='Venezuela', ORIGIN_COUNTRY_NAME='United States', count=290),\n",
       " Row(DEST_COUNTRY_NAME='United States', ORIGIN_COUNTRY_NAME='Palau', count=31),\n",
       " Row(DEST_COUNTRY_NAME='United States', ORIGIN_COUNTRY_NAME='Venezuela', count=246),\n",
       " Row(DEST_COUNTRY_NAME='Panama', ORIGIN_COUNTRY_NAME='United States', count=510),\n",
       " Row(DEST_COUNTRY_NAME='Antigua and Barbuda', ORIGIN_COUNTRY_NAME='United States', count=126),\n",
       " Row(DEST_COUNTRY_NAME='United States', ORIGIN_COUNTRY_NAME='Chile', count=185),\n",
       " Row(DEST_COUNTRY_NAME='Morocco', ORIGIN_COUNTRY_NAME='United States', count=15),\n",
       " Row(DEST_COUNTRY_NAME='United States', ORIGIN_COUNTRY_NAME='Finland', count=28),\n",
       " Row(DEST_COUNTRY_NAME='Azerbaijan', ORIGIN_COUNTRY_NAME='United States', count=21),\n",
       " Row(DEST_COUNTRY_NAME='United States', ORIGIN_COUNTRY_NAME='Greece', count=23),\n",
       " Row(DEST_COUNTRY_NAME='United States', ORIGIN_COUNTRY_NAME='The Bahamas', count=986),\n",
       " Row(DEST_COUNTRY_NAME='New Zealand', ORIGIN_COUNTRY_NAME='United States', count=111),\n",
       " Row(DEST_COUNTRY_NAME='Liberia', ORIGIN_COUNTRY_NAME='United States', count=2),\n",
       " Row(DEST_COUNTRY_NAME='United States', ORIGIN_COUNTRY_NAME='Hong Kong', count=414),\n",
       " Row(DEST_COUNTRY_NAME='Hungary', ORIGIN_COUNTRY_NAME='United States', count=2),\n",
       " Row(DEST_COUNTRY_NAME='United States', ORIGIN_COUNTRY_NAME='China', count=920),\n",
       " Row(DEST_COUNTRY_NAME='United States', ORIGIN_COUNTRY_NAME='Vietnam', count=2),\n",
       " Row(DEST_COUNTRY_NAME='Burkina Faso', ORIGIN_COUNTRY_NAME='United States', count=1),\n",
       " Row(DEST_COUNTRY_NAME='Sweden', ORIGIN_COUNTRY_NAME='United States', count=118),\n",
       " Row(DEST_COUNTRY_NAME='United States', ORIGIN_COUNTRY_NAME='Kuwait', count=28),\n",
       " Row(DEST_COUNTRY_NAME='United States', ORIGIN_COUNTRY_NAME='Dominican Republic', count=1420),\n",
       " Row(DEST_COUNTRY_NAME='United States', ORIGIN_COUNTRY_NAME='Egypt', count=12),\n",
       " Row(DEST_COUNTRY_NAME='Israel', ORIGIN_COUNTRY_NAME='United States', count=134),\n",
       " Row(DEST_COUNTRY_NAME='United States', ORIGIN_COUNTRY_NAME='United States', count=370002),\n",
       " Row(DEST_COUNTRY_NAME='Ethiopia', ORIGIN_COUNTRY_NAME='United States', count=13),\n",
       " Row(DEST_COUNTRY_NAME='United States', ORIGIN_COUNTRY_NAME='Luxembourg', count=134),\n",
       " Row(DEST_COUNTRY_NAME='United States', ORIGIN_COUNTRY_NAME='Poland', count=33),\n",
       " Row(DEST_COUNTRY_NAME='Martinique', ORIGIN_COUNTRY_NAME='United States', count=44),\n",
       " Row(DEST_COUNTRY_NAME='United States', ORIGIN_COUNTRY_NAME='Saint Barthelemy', count=41),\n",
       " Row(DEST_COUNTRY_NAME='Saint Barthelemy', ORIGIN_COUNTRY_NAME='United States', count=39),\n",
       " Row(DEST_COUNTRY_NAME='Barbados', ORIGIN_COUNTRY_NAME='United States', count=154),\n",
       " Row(DEST_COUNTRY_NAME='United States', ORIGIN_COUNTRY_NAME='Turkey', count=129),\n",
       " Row(DEST_COUNTRY_NAME='Djibouti', ORIGIN_COUNTRY_NAME='United States', count=1),\n",
       " Row(DEST_COUNTRY_NAME='United States', ORIGIN_COUNTRY_NAME='Azerbaijan', count=21),\n",
       " Row(DEST_COUNTRY_NAME='United States', ORIGIN_COUNTRY_NAME='Estonia', count=1),\n",
       " Row(DEST_COUNTRY_NAME='Germany', ORIGIN_COUNTRY_NAME='United States', count=1468),\n",
       " Row(DEST_COUNTRY_NAME='United States', ORIGIN_COUNTRY_NAME='South Korea', count=827),\n",
       " Row(DEST_COUNTRY_NAME='United States', ORIGIN_COUNTRY_NAME='El Salvador', count=508),\n",
       " Row(DEST_COUNTRY_NAME='Ireland', ORIGIN_COUNTRY_NAME='United States', count=335),\n",
       " Row(DEST_COUNTRY_NAME='United States', ORIGIN_COUNTRY_NAME='Hungary', count=3),\n",
       " Row(DEST_COUNTRY_NAME='Zambia', ORIGIN_COUNTRY_NAME='United States', count=1),\n",
       " Row(DEST_COUNTRY_NAME='Malaysia', ORIGIN_COUNTRY_NAME='United States', count=2),\n",
       " Row(DEST_COUNTRY_NAME='United States', ORIGIN_COUNTRY_NAME='Ethiopia', count=12),\n",
       " Row(DEST_COUNTRY_NAME='United States', ORIGIN_COUNTRY_NAME='Panama', count=465),\n",
       " Row(DEST_COUNTRY_NAME='United States', ORIGIN_COUNTRY_NAME='Aruba', count=342),\n",
       " Row(DEST_COUNTRY_NAME='United States', ORIGIN_COUNTRY_NAME='Thailand', count=4),\n",
       " Row(DEST_COUNTRY_NAME='United States', ORIGIN_COUNTRY_NAME='Turks and Caicos Islands', count=236),\n",
       " Row(DEST_COUNTRY_NAME='Croatia', ORIGIN_COUNTRY_NAME='United States', count=2),\n",
       " Row(DEST_COUNTRY_NAME='United States', ORIGIN_COUNTRY_NAME='Pakistan', count=12),\n",
       " Row(DEST_COUNTRY_NAME='Cyprus', ORIGIN_COUNTRY_NAME='United States', count=1),\n",
       " Row(DEST_COUNTRY_NAME='United States', ORIGIN_COUNTRY_NAME='Honduras', count=407),\n",
       " Row(DEST_COUNTRY_NAME='Fiji', ORIGIN_COUNTRY_NAME='United States', count=24),\n",
       " Row(DEST_COUNTRY_NAME='Qatar', ORIGIN_COUNTRY_NAME='United States', count=108),\n",
       " Row(DEST_COUNTRY_NAME='Saint Kitts and Nevis', ORIGIN_COUNTRY_NAME='United States', count=139),\n",
       " Row(DEST_COUNTRY_NAME='Kuwait', ORIGIN_COUNTRY_NAME='United States', count=32),\n",
       " Row(DEST_COUNTRY_NAME='Taiwan', ORIGIN_COUNTRY_NAME='United States', count=266),\n",
       " Row(DEST_COUNTRY_NAME='Haiti', ORIGIN_COUNTRY_NAME='United States', count=226),\n",
       " Row(DEST_COUNTRY_NAME='Canada', ORIGIN_COUNTRY_NAME='United States', count=8399),\n",
       " Row(DEST_COUNTRY_NAME='Federated States of Micronesia', ORIGIN_COUNTRY_NAME='United States', count=69),\n",
       " Row(DEST_COUNTRY_NAME='United States', ORIGIN_COUNTRY_NAME='Liberia', count=2),\n",
       " Row(DEST_COUNTRY_NAME='Jamaica', ORIGIN_COUNTRY_NAME='United States', count=666),\n",
       " Row(DEST_COUNTRY_NAME='United States', ORIGIN_COUNTRY_NAME='Malta', count=2),\n",
       " Row(DEST_COUNTRY_NAME='Dominican Republic', ORIGIN_COUNTRY_NAME='United States', count=1353),\n",
       " Row(DEST_COUNTRY_NAME='Japan', ORIGIN_COUNTRY_NAME='United States', count=1548),\n",
       " Row(DEST_COUNTRY_NAME='United States', ORIGIN_COUNTRY_NAME='Lithuania', count=1),\n",
       " Row(DEST_COUNTRY_NAME='Finland', ORIGIN_COUNTRY_NAME='United States', count=26),\n",
       " Row(DEST_COUNTRY_NAME='United States', ORIGIN_COUNTRY_NAME='Guadeloupe', count=59),\n",
       " Row(DEST_COUNTRY_NAME='United States', ORIGIN_COUNTRY_NAME='Ukraine', count=13),\n",
       " Row(DEST_COUNTRY_NAME='United States', ORIGIN_COUNTRY_NAME='France', count=952),\n",
       " Row(DEST_COUNTRY_NAME='United States', ORIGIN_COUNTRY_NAME='Norway', count=115),\n",
       " Row(DEST_COUNTRY_NAME='Aruba', ORIGIN_COUNTRY_NAME='United States', count=346),\n",
       " Row(DEST_COUNTRY_NAME='French Guiana', ORIGIN_COUNTRY_NAME='United States', count=5),\n",
       " Row(DEST_COUNTRY_NAME='United States', ORIGIN_COUNTRY_NAME='Kiribati', count=35),\n",
       " Row(DEST_COUNTRY_NAME='India', ORIGIN_COUNTRY_NAME='United States', count=61),\n",
       " Row(DEST_COUNTRY_NAME='British Virgin Islands', ORIGIN_COUNTRY_NAME='United States', count=107),\n",
       " Row(DEST_COUNTRY_NAME='Brazil', ORIGIN_COUNTRY_NAME='United States', count=853),\n",
       " Row(DEST_COUNTRY_NAME='United States', ORIGIN_COUNTRY_NAME='Germany', count=1336),\n",
       " Row(DEST_COUNTRY_NAME='United States', ORIGIN_COUNTRY_NAME='New Zealand', count=74),\n",
       " Row(DEST_COUNTRY_NAME='French Polynesia', ORIGIN_COUNTRY_NAME='United States', count=43),\n",
       " Row(DEST_COUNTRY_NAME='United Arab Emirates', ORIGIN_COUNTRY_NAME='United States', count=320),\n",
       " Row(DEST_COUNTRY_NAME='Singapore', ORIGIN_COUNTRY_NAME='United States', count=3),\n",
       " Row(DEST_COUNTRY_NAME='United States', ORIGIN_COUNTRY_NAME='Mexico', count=7187),\n",
       " Row(DEST_COUNTRY_NAME='United States', ORIGIN_COUNTRY_NAME='Sweden', count=119),\n",
       " Row(DEST_COUNTRY_NAME='Netherlands', ORIGIN_COUNTRY_NAME='United States', count=776),\n",
       " Row(DEST_COUNTRY_NAME='United States', ORIGIN_COUNTRY_NAME='Martinique', count=43),\n",
       " Row(DEST_COUNTRY_NAME='United States', ORIGIN_COUNTRY_NAME='United Arab Emirates', count=313),\n",
       " Row(DEST_COUNTRY_NAME='United States', ORIGIN_COUNTRY_NAME='Bulgaria', count=1),\n",
       " Row(DEST_COUNTRY_NAME='Denmark', ORIGIN_COUNTRY_NAME='United States', count=153),\n",
       " Row(DEST_COUNTRY_NAME='China', ORIGIN_COUNTRY_NAME='United States', count=772),\n",
       " Row(DEST_COUNTRY_NAME='United States', ORIGIN_COUNTRY_NAME='Nicaragua', count=201),\n",
       " Row(DEST_COUNTRY_NAME='United States', ORIGIN_COUNTRY_NAME='Philippines', count=126),\n",
       " Row(DEST_COUNTRY_NAME='United States', ORIGIN_COUNTRY_NAME='Georgia', count=1),\n",
       " Row(DEST_COUNTRY_NAME='United States', ORIGIN_COUNTRY_NAME='Belgium', count=228),\n",
       " Row(DEST_COUNTRY_NAME='Cayman Islands', ORIGIN_COUNTRY_NAME='United States', count=314),\n",
       " Row(DEST_COUNTRY_NAME='Argentina', ORIGIN_COUNTRY_NAME='United States', count=180),\n",
       " Row(DEST_COUNTRY_NAME='Peru', ORIGIN_COUNTRY_NAME='United States', count=279),\n",
       " Row(DEST_COUNTRY_NAME='South Africa', ORIGIN_COUNTRY_NAME='United States', count=36),\n",
       " Row(DEST_COUNTRY_NAME='United States', ORIGIN_COUNTRY_NAME='Iceland', count=202),\n",
       " Row(DEST_COUNTRY_NAME='United States', ORIGIN_COUNTRY_NAME='Argentina', count=141),\n",
       " Row(DEST_COUNTRY_NAME='Spain', ORIGIN_COUNTRY_NAME='United States', count=420),\n",
       " Row(DEST_COUNTRY_NAME='Bermuda', ORIGIN_COUNTRY_NAME='United States', count=183),\n",
       " Row(DEST_COUNTRY_NAME='United States', ORIGIN_COUNTRY_NAME='Nigeria', count=50),\n",
       " Row(DEST_COUNTRY_NAME='United States', ORIGIN_COUNTRY_NAME='Austria', count=63),\n",
       " Row(DEST_COUNTRY_NAME='United States', ORIGIN_COUNTRY_NAME='Bonaire, Sint Eustatius, and Saba', count=59),\n",
       " Row(DEST_COUNTRY_NAME='Kiribati', ORIGIN_COUNTRY_NAME='United States', count=26),\n",
       " Row(DEST_COUNTRY_NAME='Saudi Arabia', ORIGIN_COUNTRY_NAME='United States', count=83),\n",
       " Row(DEST_COUNTRY_NAME='Czech Republic', ORIGIN_COUNTRY_NAME='United States', count=13),\n",
       " Row(DEST_COUNTRY_NAME='United States', ORIGIN_COUNTRY_NAME='Israel', count=127),\n",
       " Row(DEST_COUNTRY_NAME='Belgium', ORIGIN_COUNTRY_NAME='United States', count=259),\n",
       " Row(DEST_COUNTRY_NAME='United States', ORIGIN_COUNTRY_NAME='Saint Lucia', count=136),\n",
       " Row(DEST_COUNTRY_NAME='United States', ORIGIN_COUNTRY_NAME='Bahrain', count=1),\n",
       " Row(DEST_COUNTRY_NAME='United States', ORIGIN_COUNTRY_NAME='British Virgin Islands', count=80),\n",
       " Row(DEST_COUNTRY_NAME='Curacao', ORIGIN_COUNTRY_NAME='United States', count=90),\n",
       " Row(DEST_COUNTRY_NAME='Georgia', ORIGIN_COUNTRY_NAME='United States', count=2),\n",
       " Row(DEST_COUNTRY_NAME='United States', ORIGIN_COUNTRY_NAME='Denmark', count=152),\n",
       " Row(DEST_COUNTRY_NAME='United States', ORIGIN_COUNTRY_NAME='Guyana', count=63),\n",
       " Row(DEST_COUNTRY_NAME='Philippines', ORIGIN_COUNTRY_NAME='United States', count=134),\n",
       " Row(DEST_COUNTRY_NAME='Grenada', ORIGIN_COUNTRY_NAME='United States', count=53),\n",
       " Row(DEST_COUNTRY_NAME='Cape Verde', ORIGIN_COUNTRY_NAME='United States', count=20),\n",
       " Row(DEST_COUNTRY_NAME=\"Cote d'Ivoire\", ORIGIN_COUNTRY_NAME='United States', count=1),\n",
       " Row(DEST_COUNTRY_NAME='Ukraine', ORIGIN_COUNTRY_NAME='United States', count=14),\n",
       " Row(DEST_COUNTRY_NAME='United States', ORIGIN_COUNTRY_NAME='Papua New Guinea', count=1),\n",
       " Row(DEST_COUNTRY_NAME='Russia', ORIGIN_COUNTRY_NAME='United States', count=176),\n",
       " Row(DEST_COUNTRY_NAME='United States', ORIGIN_COUNTRY_NAME='Saudi Arabia', count=70),\n",
       " Row(DEST_COUNTRY_NAME='Guatemala', ORIGIN_COUNTRY_NAME='United States', count=397),\n",
       " Row(DEST_COUNTRY_NAME='Saint Lucia', ORIGIN_COUNTRY_NAME='United States', count=123),\n",
       " Row(DEST_COUNTRY_NAME='Paraguay', ORIGIN_COUNTRY_NAME='United States', count=60),\n",
       " Row(DEST_COUNTRY_NAME='United States', ORIGIN_COUNTRY_NAME='Curacao', count=83),\n",
       " Row(DEST_COUNTRY_NAME='Kosovo', ORIGIN_COUNTRY_NAME='United States', count=1),\n",
       " Row(DEST_COUNTRY_NAME='United States', ORIGIN_COUNTRY_NAME='Taiwan', count=235),\n",
       " Row(DEST_COUNTRY_NAME='Tunisia', ORIGIN_COUNTRY_NAME='United States', count=3),\n",
       " Row(DEST_COUNTRY_NAME='United States', ORIGIN_COUNTRY_NAME='South Africa', count=40),\n",
       " Row(DEST_COUNTRY_NAME='Niger', ORIGIN_COUNTRY_NAME='United States', count=2),\n",
       " Row(DEST_COUNTRY_NAME='Turkey', ORIGIN_COUNTRY_NAME='United States', count=138),\n",
       " Row(DEST_COUNTRY_NAME='United Kingdom', ORIGIN_COUNTRY_NAME='United States', count=2025),\n",
       " Row(DEST_COUNTRY_NAME='Romania', ORIGIN_COUNTRY_NAME='United States', count=14),\n",
       " Row(DEST_COUNTRY_NAME='United States', ORIGIN_COUNTRY_NAME='Greenland', count=4),\n",
       " Row(DEST_COUNTRY_NAME='Papua New Guinea', ORIGIN_COUNTRY_NAME='United States', count=3),\n",
       " Row(DEST_COUNTRY_NAME='United States', ORIGIN_COUNTRY_NAME='Spain', count=442),\n",
       " Row(DEST_COUNTRY_NAME='Iraq', ORIGIN_COUNTRY_NAME='United States', count=1),\n",
       " Row(DEST_COUNTRY_NAME='United States', ORIGIN_COUNTRY_NAME='Italy', count=438),\n",
       " Row(DEST_COUNTRY_NAME='Cuba', ORIGIN_COUNTRY_NAME='United States', count=466),\n",
       " Row(DEST_COUNTRY_NAME='United States', ORIGIN_COUNTRY_NAME='Switzerland', count=305),\n",
       " Row(DEST_COUNTRY_NAME='Dominica', ORIGIN_COUNTRY_NAME='United States', count=20),\n",
       " Row(DEST_COUNTRY_NAME='United States', ORIGIN_COUNTRY_NAME='Japan', count=1496),\n",
       " Row(DEST_COUNTRY_NAME='Portugal', ORIGIN_COUNTRY_NAME='United States', count=127),\n",
       " Row(DEST_COUNTRY_NAME='United States', ORIGIN_COUNTRY_NAME='Brazil', count=619),\n",
       " Row(DEST_COUNTRY_NAME='Bahrain', ORIGIN_COUNTRY_NAME='United States', count=19),\n",
       " Row(DEST_COUNTRY_NAME='United States', ORIGIN_COUNTRY_NAME='Peru', count=337),\n",
       " Row(DEST_COUNTRY_NAME='Indonesia', ORIGIN_COUNTRY_NAME='United States', count=1),\n",
       " Row(DEST_COUNTRY_NAME='United States', ORIGIN_COUNTRY_NAME='Belize', count=193),\n",
       " Row(DEST_COUNTRY_NAME='United States', ORIGIN_COUNTRY_NAME='United Kingdom', count=1970),\n",
       " Row(DEST_COUNTRY_NAME='Belize', ORIGIN_COUNTRY_NAME='United States', count=188),\n",
       " Row(DEST_COUNTRY_NAME='United States', ORIGIN_COUNTRY_NAME='Ghana', count=20),\n",
       " Row(DEST_COUNTRY_NAME='United States', ORIGIN_COUNTRY_NAME='Indonesia', count=2),\n",
       " Row(DEST_COUNTRY_NAME='United States', ORIGIN_COUNTRY_NAME='Fiji', count=25),\n",
       " Row(DEST_COUNTRY_NAME='United States', ORIGIN_COUNTRY_NAME='Canada', count=8483),\n",
       " Row(DEST_COUNTRY_NAME='United States', ORIGIN_COUNTRY_NAME='Antigua and Barbuda', count=117),\n",
       " Row(DEST_COUNTRY_NAME='United States', ORIGIN_COUNTRY_NAME='French Polynesia', count=40),\n",
       " Row(DEST_COUNTRY_NAME='Nicaragua', ORIGIN_COUNTRY_NAME='United States', count=179),\n",
       " Row(DEST_COUNTRY_NAME='United States', ORIGIN_COUNTRY_NAME='Latvia', count=15),\n",
       " Row(DEST_COUNTRY_NAME='United States', ORIGIN_COUNTRY_NAME='Dominica', count=27),\n",
       " Row(DEST_COUNTRY_NAME='United States', ORIGIN_COUNTRY_NAME='Czech Republic', count=12),\n",
       " Row(DEST_COUNTRY_NAME='United States', ORIGIN_COUNTRY_NAME='Australia', count=258),\n",
       " Row(DEST_COUNTRY_NAME='United States', ORIGIN_COUNTRY_NAME='Cook Islands', count=13),\n",
       " Row(DEST_COUNTRY_NAME='Austria', ORIGIN_COUNTRY_NAME='United States', count=62),\n",
       " Row(DEST_COUNTRY_NAME='Jordan', ORIGIN_COUNTRY_NAME='United States', count=44),\n",
       " Row(DEST_COUNTRY_NAME='Palau', ORIGIN_COUNTRY_NAME='United States', count=30),\n",
       " Row(DEST_COUNTRY_NAME='South Korea', ORIGIN_COUNTRY_NAME='United States', count=1048),\n",
       " Row(DEST_COUNTRY_NAME='Angola', ORIGIN_COUNTRY_NAME='United States', count=15),\n",
       " Row(DEST_COUNTRY_NAME='Ghana', ORIGIN_COUNTRY_NAME='United States', count=18),\n",
       " Row(DEST_COUNTRY_NAME='New Caledonia', ORIGIN_COUNTRY_NAME='United States', count=1),\n",
       " Row(DEST_COUNTRY_NAME='Guadeloupe', ORIGIN_COUNTRY_NAME='United States', count=56),\n",
       " Row(DEST_COUNTRY_NAME='France', ORIGIN_COUNTRY_NAME='United States', count=935),\n",
       " Row(DEST_COUNTRY_NAME='Poland', ORIGIN_COUNTRY_NAME='United States', count=32),\n",
       " Row(DEST_COUNTRY_NAME='Nigeria', ORIGIN_COUNTRY_NAME='United States', count=59),\n",
       " Row(DEST_COUNTRY_NAME='United States', ORIGIN_COUNTRY_NAME='Uruguay', count=13),\n",
       " Row(DEST_COUNTRY_NAME='Greenland', ORIGIN_COUNTRY_NAME='United States', count=2),\n",
       " Row(DEST_COUNTRY_NAME='United States', ORIGIN_COUNTRY_NAME='Bermuda', count=193),\n",
       " Row(DEST_COUNTRY_NAME='Chile', ORIGIN_COUNTRY_NAME='United States', count=174),\n",
       " Row(DEST_COUNTRY_NAME='United States', ORIGIN_COUNTRY_NAME='Cuba', count=478),\n",
       " Row(DEST_COUNTRY_NAME='United States', ORIGIN_COUNTRY_NAME='Montenegro', count=1),\n",
       " Row(DEST_COUNTRY_NAME='United States', ORIGIN_COUNTRY_NAME='Colombia', count=867),\n",
       " Row(DEST_COUNTRY_NAME='United States', ORIGIN_COUNTRY_NAME='Barbados', count=130),\n",
       " Row(DEST_COUNTRY_NAME='United States', ORIGIN_COUNTRY_NAME='Qatar', count=109),\n",
       " Row(DEST_COUNTRY_NAME='Australia', ORIGIN_COUNTRY_NAME='United States', count=329),\n",
       " Row(DEST_COUNTRY_NAME='United States', ORIGIN_COUNTRY_NAME='Cayman Islands', count=310),\n",
       " Row(DEST_COUNTRY_NAME='United States', ORIGIN_COUNTRY_NAME='Jordan', count=44),\n",
       " Row(DEST_COUNTRY_NAME='United States', ORIGIN_COUNTRY_NAME='Namibia', count=1),\n",
       " Row(DEST_COUNTRY_NAME='United States', ORIGIN_COUNTRY_NAME='Trinidad and Tobago', count=217),\n",
       " Row(DEST_COUNTRY_NAME='United States', ORIGIN_COUNTRY_NAME='Bolivia', count=13),\n",
       " Row(DEST_COUNTRY_NAME='Cook Islands', ORIGIN_COUNTRY_NAME='United States', count=13),\n",
       " Row(DEST_COUNTRY_NAME='Bulgaria', ORIGIN_COUNTRY_NAME='United States', count=3),\n",
       " Row(DEST_COUNTRY_NAME='United States', ORIGIN_COUNTRY_NAME='Saint Kitts and Nevis', count=145),\n",
       " Row(DEST_COUNTRY_NAME='Uruguay', ORIGIN_COUNTRY_NAME='United States', count=43),\n",
       " Row(DEST_COUNTRY_NAME='United States', ORIGIN_COUNTRY_NAME='Haiti', count=225),\n",
       " Row(DEST_COUNTRY_NAME='Bonaire, Sint Eustatius, and Saba', ORIGIN_COUNTRY_NAME='United States', count=58),\n",
       " Row(DEST_COUNTRY_NAME='Greece', ORIGIN_COUNTRY_NAME='United States', count=30)]"
      ]
     },
     "execution_count": 48,
     "metadata": {},
     "output_type": "execute_result"
    }
   ],
   "source": [
    "flightData2015.collect()"
   ]
  },
  {
   "cell_type": "code",
   "execution_count": 49,
   "metadata": {},
   "outputs": [
    {
     "data": {
      "text/plain": [
       "[Row(DEST_COUNTRY_NAME='United States', ORIGIN_COUNTRY_NAME='Romania', count=15),\n",
       " Row(DEST_COUNTRY_NAME='United States', ORIGIN_COUNTRY_NAME='Croatia', count=1),\n",
       " Row(DEST_COUNTRY_NAME='United States', ORIGIN_COUNTRY_NAME='Ireland', count=344),\n",
       " Row(DEST_COUNTRY_NAME='Egypt', ORIGIN_COUNTRY_NAME='United States', count=15),\n",
       " Row(DEST_COUNTRY_NAME='United States', ORIGIN_COUNTRY_NAME='India', count=62),\n",
       " Row(DEST_COUNTRY_NAME='United States', ORIGIN_COUNTRY_NAME='Singapore', count=1),\n",
       " Row(DEST_COUNTRY_NAME='United States', ORIGIN_COUNTRY_NAME='Grenada', count=62),\n",
       " Row(DEST_COUNTRY_NAME='Costa Rica', ORIGIN_COUNTRY_NAME='United States', count=588),\n",
       " Row(DEST_COUNTRY_NAME='Senegal', ORIGIN_COUNTRY_NAME='United States', count=40),\n",
       " Row(DEST_COUNTRY_NAME='Moldova', ORIGIN_COUNTRY_NAME='United States', count=1)]"
      ]
     },
     "execution_count": 49,
     "metadata": {},
     "output_type": "execute_result"
    }
   ],
   "source": [
    "flightData2015.take(10)"
   ]
  },
  {
   "cell_type": "code",
   "execution_count": 50,
   "metadata": {},
   "outputs": [
    {
     "name": "stdout",
     "output_type": "stream",
     "text": [
      "+--------------------+-------------------+-----+\n",
      "|   DEST_COUNTRY_NAME|ORIGIN_COUNTRY_NAME|count|\n",
      "+--------------------+-------------------+-----+\n",
      "|       United States|            Romania|   15|\n",
      "|       United States|            Croatia|    1|\n",
      "|       United States|            Ireland|  344|\n",
      "|               Egypt|      United States|   15|\n",
      "|       United States|              India|   62|\n",
      "|       United States|          Singapore|    1|\n",
      "|       United States|            Grenada|   62|\n",
      "|          Costa Rica|      United States|  588|\n",
      "|             Senegal|      United States|   40|\n",
      "|             Moldova|      United States|    1|\n",
      "|       United States|       Sint Maarten|  325|\n",
      "|       United States|   Marshall Islands|   39|\n",
      "|              Guyana|      United States|   64|\n",
      "|               Malta|      United States|    1|\n",
      "|            Anguilla|      United States|   41|\n",
      "|             Bolivia|      United States|   30|\n",
      "|       United States|           Paraguay|    6|\n",
      "|             Algeria|      United States|    4|\n",
      "|Turks and Caicos ...|      United States|  230|\n",
      "|       United States|          Gibraltar|    1|\n",
      "+--------------------+-------------------+-----+\n",
      "only showing top 20 rows\n",
      "\n"
     ]
    }
   ],
   "source": [
    "flightData2015.show()"
   ]
  }
 ],
 "metadata": {
  "kernelspec": {
   "display_name": "Python 3",
   "language": "python",
   "name": "python3"
  },
  "language_info": {
   "codemirror_mode": {
    "name": "ipython",
    "version": 3
   },
   "file_extension": ".py",
   "mimetype": "text/x-python",
   "name": "python",
   "nbconvert_exporter": "python",
   "pygments_lexer": "ipython3",
   "version": "3.10.12"
  },
  "orig_nbformat": 4
 },
 "nbformat": 4,
 "nbformat_minor": 2
}
